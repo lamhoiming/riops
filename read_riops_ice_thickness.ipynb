# -*- coding: utf-8 -*-
"""
Spyder Editor

This is a temporary script file.
"""



filename = 'http://navigator.oceansdata.ca/thredds/fileServer/riops/daily/' + yyyy + mm + dd + '_2D.nc'